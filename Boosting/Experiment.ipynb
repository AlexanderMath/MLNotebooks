{
 "cells": [
  {
   "cell_type": "markdown",
   "metadata": {},
   "source": [
    "# Experiment\n",
    "Recreate resutts from emargin article with AdaBoost and AdaBoostV instead of arc-gv.  (add computation of emargin later)\n",
    "\n",
    "http://colt2008.cs.helsinki.fi/papers/08-Wang.pdf page 11\n",
    "\n",
    "extend to do cross validation"
   ]
  },
  {
   "cell_type": "code",
   "execution_count": 1,
   "metadata": {},
   "outputs": [],
   "source": [
    "# Import data sets. \n",
    "import ipython_notebook_importer\n",
    "import DataSet as ds"
   ]
  },
  {
   "cell_type": "code",
   "execution_count": 6,
   "metadata": {
    "scrolled": false
   },
   "outputs": [],
   "source": [
    "# All features is normalized to [0, 1]? Sum to 1, or just live in this area?\n",
    "# THe ioanosphere dataset has an dimension where max is 0, so now i try max of abs\n",
    "\n",
    "# Five fold cross-validation, use this as test error??!?!?!?\n",
    "# decision stumps, decision trees with depth 1? Yes.\n",
    "''' \n",
    "    We use a finite set of possible decision\n",
    "    stumps. Specifically, for each feature we consider 100\n",
    "    thresholds uniformly distributed on [0, 1]. Therefore the\n",
    "    size of the base classifier set is 2 × 100 × k, where k\n",
    "    denotes the number of features.\n",
    "'''\n",
    "from sklearn.model_selection import KFold\n",
    "import ipython_notebook_importer\n",
    "import AdaBoost as ada\n",
    "import AdaBoostV as adav # importing notebooks might take a few seconds. \n",
    "import numpy as np\n",
    "\n",
    "def experiment(name):\n",
    "    # Load dataset\n",
    "    data = ds.DataSet(name)\n",
    "    X = data.X\n",
    "    y = data.y\n",
    "    \n",
    "    print(name.upper()+ \"  \", \"\\tTest (CV) Error\\tMinimum Margin\")\n",
    "    \n",
    "    kf = KFold(n_splits=3, random_state=None, shuffle=False)\n",
    "    \n",
    "    error_ada  = []\n",
    "    error_adav = []\n",
    "    mm_ada     = []\n",
    "    mm_adav    = []\n",
    "    \n",
    "    error_ada_s = []\n",
    "    error_adav_s = []\n",
    "    error_ada_s_el = []\n",
    "    mm_ada_s = []\n",
    "    mm_adav_s = []\n",
    "    \n",
    "    error_retrain = []\n",
    "    mm_retrain = []\n",
    "    error_retrain_v = []\n",
    "    mm_retrain_v = []\n",
    "    \n",
    "    i = 0\n",
    "    for train_index, test_index in kf.split(X):\n",
    "        print(i)\n",
    "        i+=1\n",
    "        X_train, X_test = X[train_index], X[test_index]\n",
    "        y_train, y_test = y[train_index], y[test_index]\n",
    "        \n",
    "        # AdaBoost exp\n",
    "        a = ada.AdaBoost()\n",
    "        a.fit(X, y, 500)\n",
    "        error_ada.append(1-a.score(X_test, y_test))\n",
    "        mm_ada.append(a.minimal_margin(X_train, y_train))\n",
    "        \n",
    "        # AdaBoostV experiment\n",
    "        av = adav.AdaBoostV()\n",
    "        av.fit(X, y, 500)\n",
    "        error_adav.append(1-av.score(X_test, y_test))\n",
    "        mm_adav.append(av.minimal_margin(X_train, y_train))\n",
    "        \n",
    "        # AdaBoost; sparsify and select by min margin\n",
    "        a_s = ada.AdaBoost()\n",
    "        a_s.force_silent = True\n",
    "        a_s.fit(X, y, 100) # just to 256 and we won on a single dataset!\n",
    "        a_s = a_s.sparsify(X, y, 10, \"mm\")\n",
    "        error_ada_s.append(1-a_s.score(X_test, y_test))\n",
    "        mm_ada_s.append(a_s.minimal_margin(X_train, y_train))\n",
    "\n",
    "        # AdaBoost; sparsify and select by minimal margin\n",
    "        a_s = ada.AdaBoost()\n",
    "        a_s.force_silent = True\n",
    "        a_s.fit(X, y, 100) # just to 256 and we won on a single dataset!\n",
    "        a_s = a_s.sparsify(X, y, 10, \"exploss\")\n",
    "        error_ada_s_el.append(1-a_s.score(X_test, y_test))\n",
    "        #mm_ada_s_el.append(a_s.minimal_margin(X_train, y_train))\n",
    "        \n",
    "        # AdaBoostV; sparsify, retrain and select by minimal margin\n",
    "        av_s = adav.AdaBoostV()\n",
    "        av_s.force_silent = True\n",
    "        av_s.fit(X, y, 100) # just to 256 and we won on a single dataset!\n",
    "        av_s = av_s.sparsify(X, y, 10)\n",
    "        error_adav_s.append(1-av_s.score(X_test, y_test))\n",
    "        mm_adav_s.append(av_s.minimal_margin(X_train, y_train))\n",
    "        \n",
    "        #retrain simple\n",
    "        a_retrain = ada.AdaBoost()\n",
    "        a_retrain.force_silent = True\n",
    "        a_retrain = a_retrain.retrain(X, y, 3, max=50)\n",
    "        error_retrain.append(1-a_retrain.score(X_test, y_test))\n",
    "        mm_retrain.append(a_retrain.minimal_margin(X_train, y_train))\n",
    "        \n",
    "        a_retrain = adav.AdaBoostV()\n",
    "        a_retrain.force_silent = True\n",
    "        a_retrain = a_retrain.retrain(X, y, 3, max=50)\n",
    "        error_retrain_v.append(1-a_retrain.score(X_test, y_test))\n",
    "        mm_retrain_v.append(a_retrain.minimal_margin(X_train, y_train))\n",
    "        \n",
    "        \n",
    "    a_error_cv = np.mean(error_ada)\n",
    "    av_error_cv = np.mean(error_adav)\n",
    "    a_mm_cv  = np.mean(mm_ada)\n",
    "    av_mm_cv = np.mean(mm_adav)\n",
    "    \n",
    "    a_error_cv_s = np.mean(error_ada_s)\n",
    "    av_error_cv_s = np.mean(error_adav_s)\n",
    "    a_mm_cv_s  = np.mean(mm_ada_s)\n",
    "    av_mm_cv_s = np.mean(mm_adav_s)\n",
    "    \n",
    "    a_error_cv_s_el = np.mean(error_ada_s_el)\n",
    "    \n",
    "    error_retrain = np.mean(error_retrain)\n",
    "    mm_retrain = np.mean(mm_retrain)\n",
    "    error_retrain_v = np.mean(error_retrain_v)\n",
    "    mm_retrain_v = np.mean(mm_retrain_v)\n",
    "    \n",
    "    print(\"AdaBoost: \\t\", round(a_error_cv,5), \"\\t\", round(a_mm_cv,5))\n",
    "    print(\"AdaBoostV: \\t\", round(av_error_cv, 5), \"\\t\", round(av_mm_cv,5))\n",
    "    print(\"---\")\n",
    "    print(\"AdaBoost (S,mm,r1): \\t\", round(a_error_cv_s,5), \"\\t\", round(a_mm_cv_s,5))\n",
    "    print(\"AdaBoost (S,el,r1): \\t\", round(a_error_cv_s_el,5))\n",
    "    print(\"AdaBoostV (S,mm,r1): \\t\", round(av_error_cv_s, 5), \"\\t\", round(av_mm_cv_s,5))\n",
    "    print(\"Retrain: \\t\", round(error_retrain, 5), \"\\t\", round(mm_retrain,5))\n",
    "    print(\"RetrainV: \\t\", round(error_retrain_v, 5), \"\\t\", round(mm_retrain_v,5))\n",
    "\n",
    "    \n",
    "    print(\"\")\n",
    "# repeat train sparsify on 10->100; "
   ]
  },
  {
   "cell_type": "code",
   "execution_count": null,
   "metadata": {},
   "outputs": [
    {
     "name": "stdout",
     "output_type": "stream",
     "text": [
      "DIABETES   \tTest (CV) Error\tMinimum Margin\n",
      "0\n"
     ]
    }
   ],
   "source": [
    "for name in ds.DataSet.names: \n",
    "    experiment(name)"
   ]
  },
  {
   "cell_type": "code",
   "execution_count": null,
   "metadata": {
    "collapsed": true
   },
   "outputs": [],
   "source": []
  },
  {
   "cell_type": "code",
   "execution_count": null,
   "metadata": {
    "collapsed": true
   },
   "outputs": [],
   "source": []
  }
 ],
 "metadata": {
  "kernelspec": {
   "display_name": "Python 3",
   "language": "python",
   "name": "python3"
  },
  "language_info": {
   "codemirror_mode": {
    "name": "ipython",
    "version": 3
   },
   "file_extension": ".py",
   "mimetype": "text/x-python",
   "name": "python",
   "nbconvert_exporter": "python",
   "pygments_lexer": "ipython3",
   "version": "3.6.3"
  }
 },
 "nbformat": 4,
 "nbformat_minor": 2
}
