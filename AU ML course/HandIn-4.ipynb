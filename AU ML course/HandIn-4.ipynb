{
 "cells": [
  {
   "cell_type": "markdown",
   "metadata": {},
   "source": [
    "# Machine Learning hand-in 4\n",
    "This handin is about implementing and using representative-based clustering algorithms. If you have made your way through the programming exercises for weeks 11 and 12 you are almost done with the first two parts of the handin. \n",
    "\n",
    "The handin is mandatory, and should be done in groups of 2-3 students. Each group\n",
    "must prepare a report in PDF format as outlined below. Please submit all your\n",
    "Python files in a zip file, and your PDF report outside the zip file, to\n",
    "Blackboard no later than **Friday, December 8 at 9:00 AM**."
   ]
  },
  {
   "cell_type": "code",
   "execution_count": 1,
   "metadata": {
    "collapsed": true
   },
   "outputs": [],
   "source": [
    "import numpy as np\n",
    "%matplotlib inline\n",
    "import matplotlib.pyplot as plt"
   ]
  },
  {
   "cell_type": "markdown",
   "metadata": {},
   "source": [
    "## 1. Implementing the Algorithms\n",
    "In this section you must implement Lloyds algorithm andthe Gaussian Mixture Expectation\n",
    "Maximization algorithm. Please refer to p. 349 and p. 335 of the textbook [ZM] or see the exercises from week 11/12. If you already did this during class copy paste them in below. \n",
    "\n",
    "<!-- \n",
    "For the EM algorithm, you may use the `pdf` function below to compute the probability\n",
    "densities in the Gaussian Mixture model.\n",
    "\n",
    "You should use the Python code displayed previously to load and display Iris data\n",
    "and apply PCA to reduce it from four dimensions to two.\n",
    "\n",
    "Use the 2d Iris data to validate your algorithms (compare the results you get\n",
    "with the results in the textbook on the same data), and run your algorithms on\n",
    "the 4d data and compare.\n",
    "\n",
    "You should read the deliverables section at the very end of the notebook before getting into detail with the code below.-->"
   ]
  },
  {
   "cell_type": "markdown",
   "metadata": {},
   "source": [
    "### 1.1 Lloyd's Algorithm\n",
    "You are allowed to structure your code however you want. The template below is identical to the one given in class at week 11. We recommend you use it. "
   ]
  },
  {
   "cell_type": "code",
   "execution_count": 14,
   "metadata": {
    "collapsed": true
   },
   "outputs": [],
   "source": [
    "def lloyds_algorithm(X, k, T):\n",
    "    \"\"\" Clusters the data of X into k clusters using T iterations of Lloyd's algorithm. \n",
    "    \n",
    "        Parameters\n",
    "        ----------\n",
    "        X : Data matrix of shape (n, d)\n",
    "        k : Number of clusters.\n",
    "        T : Maximum number of iterations to run Lloyd's algorithm. \n",
    "        \n",
    "        Returns\n",
    "        -------\n",
    "        clustering: A vector of shape (n, ) where the i'th entry holds the cluster of X[i].\n",
    "        centroids:  The centroids/average points of each cluster. \n",
    "        cost:       The cost of the clustering \n",
    "    \"\"\"\n",
    "    n, d = X.shape\n",
    "    \n",
    "    # Initialize clusters random. \n",
    "    clustering = np.random.randint(0, k, (n, )) \n",
    "    centroids  = np.zeros((k, d))\n",
    "    \n",
    "    # Used to stop if cost isn't improving (decreasing)\n",
    "    cost = 0\n",
    "    oldcost = 0\n",
    "    \n",
    "    # Column names\n",
    "    print(\"Iterations\\tCost\")\n",
    "    \n",
    "    for i in range(T):\n",
    "        \n",
    "        # Update centroid\n",
    "        # YOUR CODE HERE\n",
    "        # END CODE\n",
    "        \n",
    "        \n",
    "        # Update clustering \n",
    "        # YOUR CODE HERE\n",
    "        # END CODE\n",
    "        \n",
    "        # Compute and print cost\n",
    "        cost = 0\n",
    "        for j in range(n):\n",
    "            cost += np.linalg.norm(X[j] - centroids[clustering[j]])**2    \n",
    "        print(i+1, \"\\t\\t\", np.sqrt(cost))\n",
    "        \n",
    "        \n",
    "        # Stop if cost didn't improve more than epislon (decrease)\n",
    "        if np.isclose(cost, oldcost): break \n",
    "        oldcost = cost\n",
    "        \n",
    "    return clustering, centroids, cost\n",
    "\n",
    "clustering, centroids, cost = lloyds_algorithm(X, 3, 100)"
   ]
  },
  {
   "cell_type": "markdown",
   "metadata": {},
   "source": [
    "### 1.2 Expectation Maximization Algorithm\n",
    "Again, you are allowed to structure your code however you want. The template below is identical to the one given in class at week 12. We recommend you use it. "
   ]
  },
  {
   "cell_type": "code",
   "execution_count": null,
   "metadata": {
    "collapsed": true
   },
   "outputs": [],
   "source": []
  },
  {
   "cell_type": "markdown",
   "metadata": {},
   "source": [
    "## Combine Lloyd's algorithm with the Expectation Maximization algorithm \n",
    "In order to determine an initial set of cluster centers for the EM algorithm, one can utilize the best centroids determined by Lloyd's algorithm. For this, run Lloyd's algorithm several times, and choose the best one. Then run the EM algorithm with the initial means as the centroids obtained in the previous step.\n",
    "\n",
    "Test the final algorithm on the 2d IRIS data and to compare the results with Lloyd's Algorithm and the Expectation Maximization algorithm (without Lloyd's initialization). "
   ]
  },
  {
   "cell_type": "code",
   "execution_count": 17,
   "metadata": {
    "collapsed": true
   },
   "outputs": [],
   "source": [
    "import sklearn.datasets\n",
    "iris = sklearn.datasets.load_iris()\n",
    "X = iris['data'][:,0:2] # reduce dimensions so we can plot what happens.\n",
    "k = 3\n",
    "\n",
    "# YOUR CODE HERE\n",
    "# END CODE"
   ]
  },
  {
   "cell_type": "markdown",
   "metadata": {},
   "source": [
    "<b>Report section 1: </b>\n",
    "- asd"
   ]
  },
  {
   "cell_type": "markdown",
   "metadata": {},
   "source": [
    "## 2. Evaluating clusterings\n",
    "\n",
    "Implement the F1 score (build the contingency table p. 426, measure pp. 427-428)\n",
    "and the silhouette coefficient (pp. 444-445), and compare the quality of\n",
    "several runs of your algorithms with different values for *k*."
   ]
  },
  {
   "cell_type": "markdown",
   "metadata": {},
   "source": [
    "### Silhouette Coefficient\n",
    "\n",
    "Begin by implementing the Silhouette coefficient, as explained in the lecture and discussed during the practical exercises of the last two weeks. You can use the following template"
   ]
  },
  {
   "cell_type": "code",
   "execution_count": null,
   "metadata": {
    "collapsed": true
   },
   "outputs": [],
   "source": [
    "def silhouette(data, clustering): \n",
    "    n, d = data.shape\n",
    "    k = np.unique(clustering)[-1]+1\n",
    "\n",
    "    # YOUR CODE HERE\n",
    "    silh = None\n",
    "    # END CODE\n",
    "\n",
    "    return silh\n",
    "\n",
    "# Try to find the best 'k' for both KMeans and EM. "
   ]
  },
  {
   "cell_type": "markdown",
   "metadata": {},
   "source": [
    "### F1 Score\n",
    "\n",
    "Now implement a function that compute the F1 score. You can use the following template"
   ]
  },
  {
   "cell_type": "code",
   "execution_count": 18,
   "metadata": {
    "collapsed": true
   },
   "outputs": [],
   "source": [
    "def f1(predicted, labels):\n",
    "    '''\n",
    "    TODO: Add Docstring of f1 coefficient, so that students know how the input should look like and what they should return\n",
    "    '''\n",
    "    n, = predicted.shape\n",
    "    assert labels.shape == (n,)\n",
    "    r = np.max(predicted) + 1\n",
    "    k = np.max(labels) + 1\n",
    "\n",
    "    # Implement the F1 score here\n",
    "    # YOUR CODE HERE\n",
    "    contingency = None\n",
    "    F_individual = None\n",
    "    F_overall = None\n",
    "    # END CODE\n",
    "\n",
    "    assert contingency.shape == (r, k)\n",
    "    return F_individual, F_overall, contingency"
   ]
  },
  {
   "cell_type": "markdown",
   "metadata": {},
   "source": [
    "<b>Report section 2: </b>Are there any differences between the two quality measures?\n",
    "\n",
    "HINT: External/internal measures supervised/unsupervised.\n",
    "\n",
    "<b>"
   ]
  },
  {
   "cell_type": "markdown",
   "metadata": {},
   "source": [
    "# 3. Compressing images\n",
    "In class week 11 you saw how to do image compression using clustering. In this section you will revisit image compression. Find a picture you like. You could Google your favourite animal, car, disney cartoon character or take a photo of your study group. You should now use Lloyd's algorithm, EM or a combination to compress your image. \n",
    "\n",
    "The size of images can be measured in bytes. The following code downloads an image, displays it and prints the size of the images in bytes:"
   ]
  },
  {
   "cell_type": "code",
   "execution_count": 9,
   "metadata": {},
   "outputs": [
    {
     "data": {
      "image/png": "[encoded data removed]",
      "text/plain": [
       "<matplotlib.figure.Figure at 0x7fba249f4b00>"
      ]
     },
     "metadata": {},
     "output_type": "display_data"
    },
    {
     "name": "stdout",
     "output_type": "stream",
     "text": [
      "The image consumes a total of 106292 bytes. \n",
      "The goal is to compress the images 10 times so it consumes no more than 10629 bytes. \n"
     ]
    }
   ],
   "source": [
    "import scipy.misc\n",
    "import matplotlib.pyplot as plt\n",
    "import os\n",
    "\n",
    "def download_image(url):\n",
    "    filename = url[url.rindex('/')+1:]\n",
    "    try:\n",
    "        with open(filename, 'rb') as fp:\n",
    "            return scipy.misc.imread(fp) / 255\n",
    "    except FileNotFoundError:\n",
    "        import urllib.request\n",
    "        with open(filename, 'w+b') as fp, urllib.request.urlopen(url) as r:\n",
    "            fp.write(r.read())\n",
    "            return scipy.misc.imread(fp) / 255\n",
    " \n",
    "img_facade = download_image('https://uploads.toptal.io/blog/image/443/toptal-blog-image-1407508081138.png')\n",
    "\n",
    "fig, ax = plt.subplots(1, 1, figsize=(5,5))\n",
    "ax.imshow(img_facade)\n",
    "plt.show()\n",
    "\n",
    "size = os.stat('toptal-blog-image-1407508081138.png').st_size\n",
    "\n",
    "print(\"The image consumes a total of %i bytes. \"%size)\n",
    "print(\"The goal is to compress the images 10 times so it consumes no more than %i bytes. \" %(size/10))"
   ]
  },
  {
   "cell_type": "markdown",
   "metadata": {},
   "source": [
    "Again, you can use the code from class week 11 as inspiration, but you do not have to. The following code is identical to that you saw in class. "
   ]
  },
  {
   "cell_type": "code",
   "execution_count": 10,
   "metadata": {
    "collapsed": true
   },
   "outputs": [],
   "source": [
    "def compress_kmeans(im, k, T):\n",
    "    height, width, depth = im.shape\n",
    "    data = im.reshape((height * width, depth))\n",
    "    clustering, centroids, score = lloyds_algorithm(data, k, 5)\n",
    "    \n",
    "    # make each entry of data to the value of it's cluster\n",
    "    data_compressed = data\n",
    "    \n",
    "    for i in range(k): data_compressed[clustering == i] = centroids[i] \n",
    "    \n",
    "    im_compressed = data_compressed.reshape((height, width, depth))\n",
    "    plt.figure()\n",
    "    plt.imshow(im_compressed)\n",
    "    plt.show()\n",
    "\n",
    "def compress_facade(k=4, T=100):\n",
    "    img_facade = download_image('https://users-cs.au.dk/rav/ml/handins/h4/nygaard_facade.jpg')\n",
    "    compress_kmeans(img_facade, k=k, T=T)\n",
    "\n",
    "def compress_stairs(k=4, T=100):\n",
    "    img_stairs = download_image('https://users-cs.au.dk/rav/ml/handins/h4/nygaard_stairs.jpg')\n",
    "    compress_kmeans(img_stairs, k=k, T=T)"
   ]
  },
  {
   "cell_type": "markdown",
   "metadata": {},
   "source": [
    "When you display the compressed image you can save it by hovering your mouse over it. After saving it you can determine the size of the image by using the `os.stat('NAME OF IMAGE').st_size` command. \n",
    "\n",
    "<b>Report: </b>Include the original and the compressed image. You should state the sizes of both images in bytes, and briefly (5 lines) explain how you compressed the image. "
   ]
  },
  {
   "cell_type": "markdown",
   "metadata": {},
   "source": [
    "# 4. Sampling from MNIST\n",
    "The code below runs `sklearn`'s implementation of EM on the MNIST dataset. Because the clusters are represented as gaussians we can sample from ..\n"
   ]
  },
  {
   "cell_type": "code",
   "execution_count": 11,
   "metadata": {},
   "outputs": [
    {
     "ename": "NameError",
     "evalue": "name 'code' is not defined",
     "output_type": "error",
     "traceback": [
      "\u001b[0;31m---------------------------------------------------------------------------\u001b[0m",
      "\u001b[0;31mNameError\u001b[0m                                 Traceback (most recent call last)",
      "\u001b[0;32m<ipython-input-11-7844a93ad4b9>\u001b[0m in \u001b[0;36m<module>\u001b[0;34m()\u001b[0m\n\u001b[0;32m----> 1\u001b[0;31m \u001b[0mcode\u001b[0m\u001b[0;34m\u001b[0m\u001b[0m\n\u001b[0m",
      "\u001b[0;31mNameError\u001b[0m: name 'code' is not defined"
     ]
    }
   ],
   "source": [
    "code\n"
   ]
  },
  {
   "cell_type": "markdown",
   "metadata": {},
   "source": [
    "Try to change the parameters above and get as good looking images as possible. Would higher or lower $T$ and $k$ be a good idea? \n",
    "\n",
    "You should not expect to get images that looks as nice as the real images. Expect similar results as what you saw in class week 12, maybe with minor improvements. "
   ]
  },
  {
   "cell_type": "markdown",
   "metadata": {},
   "source": [
    "<b>Report section 4: </b>\n",
    "- Explain why we can generate images of digits using the Expectation Maximization algorithm. \n",
    "- Why do the images look <a hrf=\"https://boofcv.org/images/1/18/Example_lena_denoise_noisy.jpg\" target=\"new\">noisy</a>?"
   ]
  },
  {
   "cell_type": "markdown",
   "metadata": {},
   "source": [
    "## Deliverables\n",
    "As part of the handin you must submit the following.\n",
    "\n",
    "### Code\n",
    "You must include a `.py` file including your implementations of the two algorithms (Lloyd and EM) and the two evaluation measures (Silhouette coefficient and F1 score). Alternatively, you could code everything in here and upload the final IPython Notebook. \n",
    "\n",
    "### Report\n",
    "Your report should be no more than 3 pages and clearly state who is in the group. It must cover:\n",
    "\n",
    "* The status of the work, i.e., does it work, if not, then why.\n",
    "* A discussion of plots of at least two runs of your algorithm\n",
    "  implementations detailing what you can see. Make sure that you relate this\n",
    "  to the discussion in the lecture or textbook about the strengths and\n",
    "  weaknesses of the algorithms.\n",
    "* A discussion of plots of the evaluation measures F1 and silhouette\n",
    "  coefficient, detailing what you can learn from them. Include an explanation\n",
    "  of what the evaluation measures reflect. TODO: Compute for several k's?\n",
    "* Describe how you can use one of the clustering algorithms for image\n",
    "  compression, and demonstrate the results for at least one algorithm on both\n",
    "  images, discussing their quality and giving a reasoning for the differences.\n",
    "  \n"
   ]
  },
  {
   "cell_type": "code",
   "execution_count": null,
   "metadata": {
    "collapsed": true
   },
   "outputs": [],
   "source": []
  }
 ],
 "metadata": {
  "kernelspec": {
   "display_name": "Python 3",
   "language": "python",
   "name": "python3"
  },
  "language_info": {
   "codemirror_mode": {
    "name": "ipython",
    "version": 3
   },
   "file_extension": ".py",
   "mimetype": "text/x-python",
   "name": "python",
   "nbconvert_exporter": "python",
   "pygments_lexer": "ipython3",
   "version": "3.6.3"
  }
 },
 "nbformat": 4,
 "nbformat_minor": 2
}
